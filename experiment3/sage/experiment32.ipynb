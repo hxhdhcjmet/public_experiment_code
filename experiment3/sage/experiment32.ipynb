{
 "cells": [
  {
   "cell_type": "code",
   "execution_count": null,
   "id": "07d9746e",
   "metadata": {
    "vscode": {
     "languageId": "plaintext"
    }
   },
   "outputs": [],
   "source": [
    "def getBase(n,k):\n",
    "    # 获取数n的不超过k个与n互素的数的列表Base\n",
    "    k=min(n,k)\n",
    "    base=[]\n",
    "    for i in range(1,k+1):\n",
    "        g=gcd(i,n)\n",
    "        if(g==1):\n",
    "            base.append(i)\n",
    "            # 满足i,n互素，则将i添加到base中去\n",
    "    return base\n",
    "\n",
    "def Solovay_Strassen_test(n):\n",
    "    if n<=1:\n",
    "        return False\n",
    "    if n==2:\n",
    "        return True\n",
    "    if n%2==0:\n",
    "        return False\n",
    "    # 排除基本情况\n",
    "    base = getBase(n,10)\n",
    "    for i in base:\n",
    "        # 计算a^(n-1/2)\n",
    "        x = pow(i,(n-1)//2,n)\n",
    "        # 计算jacobi符号\n",
    "        y = jacobi_symbol(i,n)\n",
    "\n",
    "        if y%n != x:\n",
    "            return False #当y与x不同余模n，则n一定是合数\n",
    "    return True\n",
    "    \n",
    "is_prime=[]\n",
    "with open(\"附件.txt\",\"r\") as f:\n",
    "    line = f.readline()\n",
    "    while line:\n",
    "       line_stripped=line.strip()\n",
    "       if not line_striped:\n",
    "            line = f,readline()\n",
    "            continue\n",
    "       try:\n",
    "            n=ZZ(line_stripped)# sagemath内置整数环\n",
    "            isprime=Solovay_Strassen_test(n)\n",
    "            if isprime:\n",
    "                is_prime.append(1)\n",
    "            else:\n",
    "                is_prime.append(0)\n",
    "       except Exception as e:\n",
    "           print(f\"错误原因：{e}\")\n",
    "           is_prime.append(None)\n",
    "       line = f.readline()\n",
    "\n",
    "print(is_prime)"
   ]
  }
 ],
 "metadata": {
  "language_info": {
   "name": "python"
  }
 },
 "nbformat": 4,
 "nbformat_minor": 5
}
